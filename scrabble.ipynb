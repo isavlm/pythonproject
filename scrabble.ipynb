{
 "cells": [
  {
   "cell_type": "markdown",
   "metadata": {},
   "source": [
    "# CIS-024C Fall 2023 - Scrabble Project\n",
    "\n",
    "Source: MITEdx Introduction to Computation/Python\n",
    "\n",
    "The rules of the game are as follows:\n",
    "\n",
    "## Dealing\n",
    "A player is dealt a hand of n letters chosen at random (assume n=7 for now).\n",
    "\n",
    "The player arranges the hand into as many words as they want out of the letters, using each letter at most once.\n",
    "\n",
    "Some letters may remain unused (these won't be scored).\n",
    "\n",
    "## Scoring\n",
    "The score for the hand is the sum of the scores for each word formed.\n",
    "\n",
    "The score for a word is the sum of the points for letters in the word, multiplied by the length of the word, plus 50 points if all n letters are used on the first word created.\n",
    "\n",
    "Letters are scored as in Scrabble; A is worth 1, B is worth 3, C is worth 3, D is worth 2, E is worth 1, and so on. We have defined the dictionary SCRABBLE_LETTER_VALUES that maps each lowercase letter to its Scrabble letter value.\n",
    "\n",
    "For example, 'weed' would be worth 32 points ((4+1+1+2) for the four letters, then multiply by len('weed') to get (4+1+1+2)*4 = 32). Be sure to check that the hand actually has 1 'w', 2 'e's, and 1 'd' before scoring the word!\n",
    "\n",
    "As another example, if n=7 and you make the word 'waybill' on the first try, it would be worth 155 points (the base score for 'waybill' is (4+1+4+3+1+1+1)*7=105, plus an additional 50 point bonus for using all n letters)."
   ]
  },
  {
   "cell_type": "markdown",
   "metadata": {},
   "source": [
    "### Helper Code"
   ]
  },
  {
   "cell_type": "code",
   "execution_count": 12,
   "metadata": {},
   "outputs": [],
   "source": [
    "import random\n",
    "import string\n",
    "\n",
    "VOWELS = 'aeiou'\n",
    "CONSONANTS = 'bcdfghjklmnpqrstvwxyz'\n",
    "HAND_SIZE = 7\n",
    "\n",
    "SCRABBLE_LETTER_VALUES = {\n",
    "    'a': 1, 'b': 3, 'c': 3, 'd': 2, 'e': 1, 'f': 4, 'g': 2, 'h': 4, 'i': 1, 'j': 8, 'k': 5, 'l': 1, 'm': 3, 'n': 1, 'o': 1, 'p': 3, 'q': 10, 'r': 1, 's': 1, 't': 1, 'u': 1, 'v': 4, 'w': 4, 'x': 8, 'y': 4, 'z': 10\n",
    "}\n",
    "\n",
    "# -----------------------------------\n",
    "# Helper code\n",
    "# (you don't need to understand this helper code)\n",
    "\n",
    "WORDLIST_FILENAME = \"words.txt\""
   ]
  },
  {
   "cell_type": "code",
   "execution_count": 13,
   "metadata": {},
   "outputs": [],
   "source": [
    "def loadWords():\n",
    "    \"\"\"\n",
    "    Returns a list of valid words. Words are strings of lowercase letters.\n",
    "    \n",
    "    Depending on the size of the word list, this function may\n",
    "    take a while to finish.\n",
    "    \"\"\"\n",
    "    print(\"Loading word list from file...\")\n",
    "    # inFile: file\n",
    "    inFile = open(WORDLIST_FILENAME, 'r')\n",
    "    # wordList: list of strings\n",
    "    wordList = []\n",
    "    for line in inFile:\n",
    "        wordList.append(line.strip().lower())\n",
    "    print(\"  \", len(wordList), \"words loaded.\")\n",
    "    return wordList"
   ]
  },
  {
   "cell_type": "code",
   "execution_count": 14,
   "metadata": {},
   "outputs": [],
   "source": [
    "def getFrequencyDict(sequence):\n",
    "    \"\"\"\n",
    "    Returns a dictionary where the keys are elements of the sequence\n",
    "    and the values are integer counts, for the number of times that\n",
    "    an element is repeated in the sequence.\n",
    "\n",
    "    sequence: string or list\n",
    "    return: dictionary\n",
    "    \"\"\"\n",
    "    # freqs: dictionary (element_type -> int)\n",
    "    freq = {}\n",
    "    for x in sequence:\n",
    "        freq[x] = freq.get(x,0) + 1\n",
    "    return freq\n",
    "\t"
   ]
  },
  {
   "cell_type": "markdown",
   "metadata": {},
   "source": [
    "### Scoring a word"
   ]
  },
  {
   "cell_type": "code",
   "execution_count": 3,
   "metadata": {},
   "outputs": [
    {
     "ename": "NameError",
     "evalue": "name 'word' is not defined",
     "output_type": "error",
     "traceback": [
      "\u001b[0;31m---------------------------------------------------------------------------\u001b[0m",
      "\u001b[0;31mNameError\u001b[0m                                 Traceback (most recent call last)",
      "\u001b[1;32m/Users/isa/Downloads/cis24c-fall2023-main/projects/scrabble/scrabble.ipynb Cell 7\u001b[0m line \u001b[0;36m1\n\u001b[1;32m      <a href='vscode-notebook-cell:/Users/isa/Downloads/cis24c-fall2023-main/projects/scrabble/scrabble.ipynb#W6sZmlsZQ%3D%3D?line=3'>4</a>\u001b[0m \u001b[39m    \u001b[39m\u001b[39m\"\"\"\u001b[39;00m\n\u001b[1;32m      <a href='vscode-notebook-cell:/Users/isa/Downloads/cis24c-fall2023-main/projects/scrabble/scrabble.ipynb#W6sZmlsZQ%3D%3D?line=4'>5</a>\u001b[0m \u001b[39m    Returns the score for a word. Assumes the word is a valid word.\u001b[39;00m\n\u001b[1;32m      <a href='vscode-notebook-cell:/Users/isa/Downloads/cis24c-fall2023-main/projects/scrabble/scrabble.ipynb#W6sZmlsZQ%3D%3D?line=5'>6</a>\u001b[0m \n\u001b[0;32m   (...)\u001b[0m\n\u001b[1;32m     <a href='vscode-notebook-cell:/Users/isa/Downloads/cis24c-fall2023-main/projects/scrabble/scrabble.ipynb#W6sZmlsZQ%3D%3D?line=15'>16</a>\u001b[0m \u001b[39m    returns: int >= 0\u001b[39;00m\n\u001b[1;32m     <a href='vscode-notebook-cell:/Users/isa/Downloads/cis24c-fall2023-main/projects/scrabble/scrabble.ipynb#W6sZmlsZQ%3D%3D?line=16'>17</a>\u001b[0m \u001b[39m    \"\"\"\u001b[39;00m\n\u001b[1;32m     <a href='vscode-notebook-cell:/Users/isa/Downloads/cis24c-fall2023-main/projects/scrabble/scrabble.ipynb#W6sZmlsZQ%3D%3D?line=17'>18</a>\u001b[0m wordScore \u001b[39m=\u001b[39m \u001b[39m0\u001b[39m\n\u001b[0;32m---> <a href='vscode-notebook-cell:/Users/isa/Downloads/cis24c-fall2023-main/projects/scrabble/scrabble.ipynb#W6sZmlsZQ%3D%3D?line=18'>19</a>\u001b[0m \u001b[39mfor\u001b[39;00m i \u001b[39min\u001b[39;00m word:\n\u001b[1;32m     <a href='vscode-notebook-cell:/Users/isa/Downloads/cis24c-fall2023-main/projects/scrabble/scrabble.ipynb#W6sZmlsZQ%3D%3D?line=19'>20</a>\u001b[0m     \u001b[39mif\u001b[39;00m i \u001b[39min\u001b[39;00m SCRABBLE_LETTER_VALUES:\n\u001b[1;32m     <a href='vscode-notebook-cell:/Users/isa/Downloads/cis24c-fall2023-main/projects/scrabble/scrabble.ipynb#W6sZmlsZQ%3D%3D?line=20'>21</a>\u001b[0m         wordScore \u001b[39m+\u001b[39m\u001b[39m=\u001b[39m SCRABBLE_LETTER_VALUES[i]\n",
      "\u001b[0;31mNameError\u001b[0m: name 'word' is not defined"
     ]
    }
   ],
   "source": [
    "# 10 points\n",
    "\n",
    "def getWordScore(word, n):\n",
    "    \"\"\"\n",
    "    Returns the score for a word. Assumes the word is a valid word.\n",
    "\n",
    "    The score for a word is the sum of the points for letters in the\n",
    "    word, multiplied by the length of the word, PLUS 50 points if all n\n",
    "    letters are used on the first turn.\n",
    "\n",
    "    Letters are scored as in Scrabble; A is worth 1, B is worth 3, C is\n",
    "    worth 3, D is worth 2, E is worth 1, and so on (see SCRABBLE_LETTER_VALUES)\n",
    "\n",
    "    word: string (lowercase letters)\n",
    "    n: integer (HAND_SIZE; i.e., hand size required for additional points)\n",
    "    returns: int >= 0\n",
    "    \"\"\"\n",
    "wordScore = 0\n",
    "for i in word:\n",
    "    if i in SCRABBLE_LETTER_VALUES:\n",
    "        wordScore += SCRABBLE_LETTER_VALUES[i]\n",
    "\n",
    "wordScore = wordScore*len(word)\n",
    "if len(word) == n:\n",
    "    wordScore += 50\n",
    "    "
   ]
  },
  {
   "cell_type": "markdown",
   "metadata": {},
   "source": [
    "### Displaying a Hand"
   ]
  },
  {
   "cell_type": "code",
   "execution_count": 16,
   "metadata": {},
   "outputs": [],
   "source": [
    "def displayHand(hand):\n",
    "    \"\"\"\n",
    "    Displays the letters currently in the hand.\n",
    "\n",
    "    For example:\n",
    "    >>> displayHand({'a':1, 'x':2, 'l':3, 'e':1})\n",
    "    Should print out something like:\n",
    "       a x x l l l e\n",
    "    The order of the letters is unimportant.\n",
    "\n",
    "    hand: dictionary (string -> int)\n",
    "    \"\"\"\n",
    "    for letter in hand.keys():\n",
    "        for j in range(hand[letter]):\n",
    "             print(letter,end='')       # print all on the same line\n",
    "    print()                             # print an empty line\n",
    "\n",
    "#MYCODE\n",
    "\n"
   ]
  },
  {
   "cell_type": "markdown",
   "metadata": {},
   "source": [
    "### Deal hand"
   ]
  },
  {
   "cell_type": "code",
   "execution_count": 17,
   "metadata": {},
   "outputs": [],
   "source": [
    "def dealHand(n):\n",
    "    \"\"\"\n",
    "    Returns a random hand containing n lowercase letters.\n",
    "    At least n/3 the letters in the hand should be VOWELS.\n",
    "\n",
    "    Hands are represented as dictionaries. The keys are\n",
    "    letters and the values are the number of times the\n",
    "    particular letter is repeated in that hand.\n",
    "\n",
    "    n: int >= 0\n",
    "    returns: dictionary (string -> int)\n",
    "    \"\"\"\n",
    "    hand={}\n",
    "    numVowels = n // 3\n",
    "    \n",
    "    for i in range(numVowels):\n",
    "        x = VOWELS[random.randrange(0,len(VOWELS))]\n",
    "        hand[x] = hand.get(x, 0) + 1\n",
    "        \n",
    "    for i in range(numVowels, n):    \n",
    "        x = CONSONANTS[random.randrange(0,len(CONSONANTS))]\n",
    "        hand[x] = hand.get(x, 0) + 1\n",
    "        \n",
    "    return hand"
   ]
  },
  {
   "cell_type": "markdown",
   "metadata": {},
   "source": [
    "### Update a hand by removing letters"
   ]
  },
  {
   "cell_type": "code",
   "execution_count": 18,
   "metadata": {},
   "outputs": [],
   "source": [
    "# 10 points\n",
    "\n",
    "def updateHand(hand, word):\n",
    "    \"\"\"\n",
    "    Assumes that 'hand' has all the letters in word.\n",
    "    In other words, this assumes that however many times\n",
    "    a letter appears in 'word', 'hand' has at least as\n",
    "    many of that letter in it. \n",
    "\n",
    "    Updates the hand: uses up the letters in the given word\n",
    "    and returns the new hand, without those letters in it.\n",
    "\n",
    "    Has no side effects: does not modify hand.\n",
    "\n",
    "    word: string\n",
    "    hand: dictionary (string -> int)    \n",
    "    returns: dictionary (string -> int)\n",
    "    \"\"\"\n",
    "    updated_Hand = hand.copy()\n",
    "    for letter in word:\n",
    "        if letter in updated_Hand:\n",
    "            updated_Hand[letter] = (updated_Hand.get(letter,0)-1)\n",
    "\n",
    "    return updated_Hand\n"
   ]
  },
  {
   "cell_type": "markdown",
   "metadata": {},
   "source": [
    "### Test a word's validity"
   ]
  },
  {
   "cell_type": "code",
   "execution_count": 19,
   "metadata": {},
   "outputs": [],
   "source": [
    "# 10 points\n",
    "\n",
    "def isValidWord(word, hand, wordList):\n",
    "    \"\"\"\n",
    "    Returns True if word is in the wordList and is entirely\n",
    "    composed of letters in the hand. Otherwise, returns False.\n",
    "\n",
    "    Does not mutate hand or wordList.\n",
    "   \n",
    "    word: string\n",
    "    hand: dictionary (string -> int)\n",
    "    wordList: list of lowercase strings\n",
    "    \"\"\"\n",
    "    # TO DO ... <-- Remove this comment when you code this function\n",
    "    wordList = \"words.txt\"\n",
    "    hand2 - hand.copy()\n",
    "    wordListCheck = True\n",
    "    letterInKeysCheck = False\n",
    "\n",
    "    for letter in word:\n",
    "        wordCheck = hadn2.get(letter,0)\n",
    "        if letter in hand2.keys() and wordCheck == 0:\n",
    "            letterInKeysCheck = False\n",
    "            break\n",
    "        elif letter in hand2.keys() and wordCheck != 0:\n",
    "            hand2[letter] = (hand2.get(letter, 0)-1) #To remove the used key from the hand.\n",
    "            letterInKeysCheck = True\n",
    "\n",
    "    if wordListCheck == True and letterInKeysCheck == True:\n",
    "        return True\n",
    "    else:\n",
    "        return False\n",
    "\n"
   ]
  },
  {
   "cell_type": "markdown",
   "metadata": {},
   "source": [
    "### Calculate hand len"
   ]
  },
  {
   "cell_type": "code",
   "execution_count": 20,
   "metadata": {},
   "outputs": [],
   "source": [
    "# 10 points\n",
    "\n",
    "def calculateHandlen(hand):\n",
    "    handLength = 0\n",
    "    for keysV in hand:\n",
    "        if hand.get(keysV, 0) != 0:\n",
    "          handLength += hand.get(keysV,0)\n",
    "\n",
    "\n",
    "    return handLength\n",
    "    \"\"\" \n",
    "    Returns the length (number of letters) in the current hand.\n",
    "    \n",
    "    hand: dictionary (string-> int)\n",
    "    returns: integer\n",
    "    \"\"\"\n"
   ]
  },
  {
   "cell_type": "markdown",
   "metadata": {},
   "source": [
    "### Play Hand"
   ]
  },
  {
   "cell_type": "code",
   "execution_count": 21,
   "metadata": {},
   "outputs": [],
   "source": [
    "# 50 points\n",
    "\n",
    "def playHand(hand, wordList, n):\n",
    "    \n",
    "\n",
    "    \"\"\"\n",
    "    Allows the user to play the given hand, as follows:\n",
    "\n",
    "    * The hand is displayed.\n",
    "    * The user may input a word or a single period (the string \".\") \n",
    "      to indicate they're done playing\n",
    "    * Invalid words are rejected, and a message is displayed asking\n",
    "      the user to choose another word until they enter a valid word or \".\"\n",
    "    * When a valid word is entered, it uses up letters from the hand.\n",
    "    * After every valid word: the score for that word is displayed,\n",
    "      the remaining letters in the hand are displayed, and the user\n",
    "      is asked to input another word.\n",
    "    * The sum of the word scores is displayed when the hand finishes.\n",
    "    * The hand finishes when there are no more unused letters or the user\n",
    "      inputs a \".\"\n",
    "\n",
    "      hand: dictionary (string -> int)\n",
    "      wordList: list of lowercase strings\n",
    "      n: integer (HAND_SIZE; i.e., hand size required for additional points)\n",
    "      \n",
    "    \"\"\"\n",
    "    # BEGIN PSEUDOCODE <-- Remove this comment when you code this function; do your coding within the pseudocode (leaving those comments in-place!)\n",
    "    # Keep track of the total score\n",
    "    \n",
    "    # As long as there are still letters left in the hand:\n",
    "    while (calculatedHandlen(hand) > 0):\n",
    "        \n",
    "        # Display the hand\n",
    "        print(\"Your current hand is: \")\n",
    "\n",
    "        # Ask user for input\n",
    "        answer = input(\"Enter a word with your letters: \")\n",
    "\n",
    "        # If the input is a single period:\n",
    "        if answer == \".\":\n",
    "            print(\"User ended game, bye.\")\n",
    "            break\n",
    "            # End the game (break out of the loop)\n",
    "\n",
    "            \n",
    "        # Otherwise (the input is not a single period):\n",
    "        else:\n",
    "            \n",
    "            # If the word is not valid:\n",
    "            if isValidWord(answer,hand,wordList) == False:\n",
    "                \n",
    "                # Reject invalid word (print a message followed by a blank line)\n",
    "                print(\"This is not a valid word, please try again.\")\n",
    "\n",
    "            # Otherwise (the word is valid):\n",
    "            elif isValidWord(answer, hand, wordList) == True:\n",
    "                # Tell the user how many points the word earned, and the updated total score, in one line followed by a blank line\n",
    "                n = calculateHandlen(hand)\n",
    "                print(\"This word is worth \" +str(getWordScore(answer, n))+ \"!\")\n",
    "                totalScore = 0\n",
    "                totalScore += getWordScore(answer, n)\n",
    "                print(\"Your current score is \" + str(totalScore)+ \"!\")\n",
    "\n",
    "                # Update the hand \n",
    "                hand = updateHand(hand, answer)\n",
    "                print()\n",
    "                print()\n",
    "\n",
    "    # Game is over (user entered a '.' or ran out of letters), so tell user the total score\n",
    "    print(\"Game over! Your total score was \"+ str(totalScore))"
   ]
  },
  {
   "cell_type": "code",
   "execution_count": 22,
   "metadata": {},
   "outputs": [],
   "source": [
    "### Playing a game"
   ]
  },
  {
   "cell_type": "code",
   "execution_count": 23,
   "metadata": {},
   "outputs": [],
   "source": [
    "# 10 points\n",
    "\n",
    "def playGame(wordList):\n",
    "    hand = {}\n",
    "\n",
    "    while True:\n",
    "        answer3 = input(\"Enter 'e' to exit. Enter 'n' for a new hand. Enter 'r' for your previous hand: \")\n",
    "\n",
    "        if answer3 == 'e':\n",
    "            print(\"You are exiting the game.\")\n",
    "        elif answer3 == 'n' or 'r':\n",
    "            while True:\n",
    "                \n",
    "                answer4 = input(\"Enter 'u' if the user is playing or enter 'c' if the computer is playing.\")\n",
    "                hand = dealHand(HAND_SIZE)\n",
    "                playHand(hand,wordList, HAND_SIZE)\n",
    "                \n",
    "                elif answer4 == 'u' and answer3 == 'r':\n",
    "                    hand = updateHand(hand)\n",
    "                    playHand(hand, wordList, HAND_SIZE)\n",
    "                    break\n",
    "            \n",
    "            elif answer4 == 'c' and answer3 == 'n':\n",
    "              hand = dealHand(HAND_SIZE)\n",
    "              comPlayHand(hand, wordList, HAND_SIZE)\n",
    "              break\n",
    "        elif answer4 == 'c' and answer3 == 'r':\n",
    "            hand = updateHand(hand)\n",
    "            comPlayHand(hand, wordList, HAND_SIZE)\n",
    "            break\n",
    "        \n",
    "                    \n",
    "    \n",
    "    \"\"\"\n",
    "    Allow the user to play an arbitrary number of hands.\n",
    "\n",
    "    1) Asks the user to input 'n' or 'r' or 'e'.\n",
    "      * If the user inputs 'n', let the user play a new (random) hand.\n",
    "      * If the user inputs 'r', let the user play the last hand again.\n",
    "      * If the user inputs 'e', exit the game.\n",
    "      * If the user inputs anything else, tell them their input was invalid.\n",
    " \n",
    "    2) When done playing the hand, repeat from step 1    \n",
    "    \"\"\"\n",
    "    # TO DO ... <-- Remove this comment when you code this function\n",
    "    #print(\"playGame not yet implemented.\") # <-- Remove this line when you code the function"
   ]
  },
  {
   "cell_type": "code",
   "execution_count": 24,
   "metadata": {},
   "outputs": [
    {
     "name": "stdout",
     "output_type": "stream",
     "text": [
      "Loading word list from file...\n",
      "   83667 words loaded.\n",
      "playGame not yet implemented.\n"
     ]
    }
   ],
   "source": [
    "wordList = loadWords()\n",
    "playGame(wordList)"
   ]
  },
  {
   "cell_type": "code",
   "execution_count": null,
   "metadata": {
    "collapsed": true
   },
   "outputs": [],
   "source": []
  },
  {
   "cell_type": "code",
   "execution_count": null,
   "metadata": {
    "collapsed": true
   },
   "outputs": [],
   "source": []
  }
 ],
 "metadata": {
  "kernelspec": {
   "display_name": "Python 3",
   "language": "python",
   "name": "python3"
  },
  "language_info": {
   "codemirror_mode": {
    "name": "ipython",
    "version": 3
   },
   "file_extension": ".py",
   "mimetype": "text/x-python",
   "name": "python",
   "nbconvert_exporter": "python",
   "pygments_lexer": "ipython3",
   "version": "3.11.5"
  }
 },
 "nbformat": 4,
 "nbformat_minor": 1
}
