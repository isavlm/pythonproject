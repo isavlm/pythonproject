{
 "cells": [
  {
   "cell_type": "markdown",
   "metadata": {},
   "source": [
    "Zenva Academy Pygame course "
   ]
  },
  {
   "cell_type": "markdown",
   "metadata": {},
   "source": [
    "Using the 4 stages of Project Manamengent. \n",
    "1. Definition \n",
    "2. Design.\n",
    "3.Implementation.\n",
    "4. Evaluation. \n",
    "\n",
    "##\n",
    "1. Definition of my project/game. \n",
    "-Game: Scrabble \n",
    "Settings: \n",
    "a. Will run on command line. \n",
    "b. Will have the same amount of tiles as the board game. \n",
    "c. Will have a board. Maybe. \n",
    "d. Will end at the end of the letters.\n",
    "\n",
    "2. Design. \n",
    "aa. Use pygame or turtle to draw. Maybe another type of library. \n",
    "bb. Need to research how to make a a game like the old DOS games. \n",
    "\n",
    "3. \n",
    "\n",
    "4. "
   ]
  },
  {
   "cell_type": "code",
   "execution_count": 1,
   "metadata": {
    "tags": []
   },
   "outputs": [
    {
     "ename": "SyntaxError",
     "evalue": "invalid syntax (3206127011.py, line 15)",
     "output_type": "error",
     "traceback": [
      "\u001b[0;36m  Cell \u001b[0;32mIn[1], line 15\u001b[0;36m\u001b[0m\n\u001b[0;31m    def words_dict(self, words.txt):\u001b[0m\n\u001b[0m                              ^\u001b[0m\n\u001b[0;31mSyntaxError\u001b[0m\u001b[0;31m:\u001b[0m invalid syntax\n"
     ]
    }
   ],
   "source": [
    "import sys\n",
    "import random \n",
    "import string\n",
    "\n",
    "\n",
    "\"\"\"For this project, I want to use a some of the things we saw in class, such as Exception Handling, python from the command line, inheritance and others.\n",
    "This program should work from the command line, read the input given by the user, run it by the list of acceptable words and output a score. \"\"\"\n",
    "#For code resources and explanations please see file Code resourses.txt\n",
    "##First step: Create a class so we can encapsulate the functions and keep things organized. \n",
    "\n",
    "class TextScrabble:\n",
    "    def __init__(self, word_file):\n",
    "        self.words = self.words_dict(word_file)\n",
    "        self.tiles = [chr(random.randint(65,90)) for _ in range(100)] \n",
    "        self.total_score = 0 #Its is a game, it should start with 0. \n",
    "\n",
    "    def words_dict(self, words.txt):\n",
    "        try:\n",
    "            with open(words.txt, 'r') as file:\n",
    "                return [word.strip().upper() for word in file]\n",
    "        except FileNotFoundError:\n",
    "            print(f\"Error: File '{words.txt}' not found.\")\n",
    "            sys.exit(1)\n",
    "\n",
    "    def calculate_score(self,word):\n",
    "\n",
    "        score = {'A': 1, 'B': 3, 'C': 3, 'D': 2, 'E': 1, 'F': 4, 'G': 2, 'H': 4, 'I': 1, 'J': 8, 'K': 5, 'L': 1, 'M': 3,\n",
    "                  'N': 1, 'O': 1, 'P': 3, 'Q': 10, 'R': 1, 'S': 1, 'T': 1, 'U': 1, 'V': 4, 'W': 4, 'X': 8, 'Y': 4, 'Z': 10}\n",
    "        return sum(score.get(letter, 0) for letter in word)\n",
    "\n",
    "    def play_game(self):\n",
    "        while self.tiles:\n",
    "            print(f\"\\,nRemainning Tiles: {' '.join(self.tiles)}\")\n",
    "            user_input = input(\"Enter a word (or 'quit' to end the game): \").strip().upper()\n",
    "\n",
    "            if user_input == 'QUIT':\n",
    "                break\n",
    "\n",
    "            if user_input == 'HELP':\n",
    "                self.display_help()\n",
    "                continue\n",
    "\n",
    "            if user_input == 'NEWGAME':\n",
    "                print(\"Starting a new game...\\n\")\n",
    "                self__init__(sys.argv[1])\n",
    "                continue\n",
    "            if user_input in self.words:\n",
    "                word_score = self.calculate_user(user_input)\n",
    "                self.total_score += word_score\n",
    "                print(f\"Score for '{user_input}': {word_score} | Total Score: {self.total_score}\")\n",
    "                self.words.remove(user_input)\n",
    "                self.tiles = [tile for tile in self.tiles if tile not in user_input] #Remove used tiles.\n",
    "            else:\n",
    "                print(\"Invalid word. Try again.\")\n",
    "\n",
    "                \n",
    "\n",
    "    \n",
    "\n",
    "\n",
    "\n",
    "\n",
    "\n"
   ]
  },
  {
   "cell_type": "code",
   "execution_count": null,
   "metadata": {},
   "outputs": [],
   "source": []
  }
 ],
 "metadata": {
  "kernelspec": {
   "display_name": "Python 3",
   "language": "python",
   "name": "python3"
  },
  "language_info": {
   "codemirror_mode": {
    "name": "ipython",
    "version": 3
   },
   "file_extension": ".py",
   "mimetype": "text/x-python",
   "name": "python",
   "nbconvert_exporter": "python",
   "pygments_lexer": "ipython3",
   "version": "3.11.5"
  }
 },
 "nbformat": 4,
 "nbformat_minor": 2
}
